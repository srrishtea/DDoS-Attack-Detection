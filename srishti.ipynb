{
 "cells": [
  {
   "cell_type": "markdown",
   "id": "b4132ad3",
   "metadata": {
    "papermill": {
     "duration": 0.009994,
     "end_time": "2024-07-20T17:17:02.513887",
     "exception": false,
     "start_time": "2024-07-20T17:17:02.503893",
     "status": "completed"
    },
    "tags": []
   },
   "source": [
    "### **Importing All Necessary Libraries**"
   ]
  },
  {
   "cell_type": "code",
   "execution_count": 1,
   "id": "446162d9",
   "metadata": {
    "execution": {
     "iopub.execute_input": "2024-07-20T17:17:02.535111Z",
     "iopub.status.busy": "2024-07-20T17:17:02.534679Z",
     "iopub.status.idle": "2024-07-20T17:17:05.776241Z",
     "shell.execute_reply": "2024-07-20T17:17:05.774924Z"
    },
    "papermill": {
     "duration": 3.255641,
     "end_time": "2024-07-20T17:17:05.779242",
     "exception": false,
     "start_time": "2024-07-20T17:17:02.523601",
     "status": "completed"
    },
    "tags": []
   },
   "outputs": [],
   "source": [
    "import pandas as pd\n",
    "import seaborn as sns\n",
    "import numpy as np\n",
    "import matplotlib.pyplot as plt\n",
    "import pickle\n",
    "import joblib\n",
    "import seaborn as sns\n",
    "from sklearn.ensemble import BaggingClassifier, RandomForestClassifier\n",
    "from sklearn.metrics import accuracy_score, recall_score, precision_score, f1_score, confusion_matrix, matthews_corrcoef\n",
    "from sklearn.preprocessing import StandardScaler\n",
    "import matplotlib.pyplot as plt\n",
    "from sklearn.model_selection import train_test_split\n",
    "%matplotlib inline\n",
    "pd.set_option('display.max_columns', None)\n",
    "pd.set_option('display.max_rows', None)"
   ]
  },
  {
   "cell_type": "markdown",
   "id": "0197bf60",
   "metadata": {
    "papermill": {
     "duration": 0.009785,
     "end_time": "2024-07-20T17:17:05.799175",
     "exception": false,
     "start_time": "2024-07-20T17:17:05.789390",
     "status": "completed"
    },
    "tags": []
   },
   "source": [
    "### **Loading Dataset Using Pandas**"
   ]
  },
  {
   "cell_type": "code",
   "execution_count": 2,
   "id": "754adf67",
   "metadata": {
    "execution": {
     "iopub.execute_input": "2024-07-20T17:17:05.820988Z",
     "iopub.status.busy": "2024-07-20T17:17:05.820408Z",
     "iopub.status.idle": "2024-07-20T17:17:05.826382Z",
     "shell.execute_reply": "2024-07-20T17:17:05.825099Z"
    },
    "papermill": {
     "duration": 0.020244,
     "end_time": "2024-07-20T17:17:05.829361",
     "exception": false,
     "start_time": "2024-07-20T17:17:05.809117",
     "status": "completed"
    },
    "tags": []
   },
   "outputs": [],
   "source": [
    "path = \"/kaggle/input/network-intrusion-dataset/Friday-WorkingHours-Afternoon-DDos.pcap_ISCX.csv\""
   ]
  },
  {
   "cell_type": "code",
   "execution_count": 3,
   "id": "d6f20014",
   "metadata": {
    "execution": {
     "iopub.execute_input": "2024-07-20T17:17:05.850659Z",
     "iopub.status.busy": "2024-07-20T17:17:05.850222Z",
     "iopub.status.idle": "2024-07-20T17:17:08.738922Z",
     "shell.execute_reply": "2024-07-20T17:17:08.737827Z"
    },
    "papermill": {
     "duration": 2.902821,
     "end_time": "2024-07-20T17:17:08.742000",
     "exception": false,
     "start_time": "2024-07-20T17:17:05.839179",
     "status": "completed"
    },
    "tags": []
   },
   "outputs": [],
   "source": [
    "df = pd.read_csv(path)"
   ]
  },
  {
   "cell_type": "code",
   "execution_count": 4,
   "id": "65da44f4",
   "metadata": {
    "execution": {
     "iopub.execute_input": "2024-07-20T17:17:08.764391Z",
     "iopub.status.busy": "2024-07-20T17:17:08.763131Z",
     "iopub.status.idle": "2024-07-20T17:17:08.830154Z",
     "shell.execute_reply": "2024-07-20T17:17:08.828890Z"
    },
    "papermill": {
     "duration": 0.080868,
     "end_time": "2024-07-20T17:17:08.832719",
     "exception": false,
     "start_time": "2024-07-20T17:17:08.751851",
     "status": "completed"
    },
    "tags": []
   },
   "outputs": [
    {
     "data": {
      "text/html": [
       "<div>\n",
       "<style scoped>\n",
       "    .dataframe tbody tr th:only-of-type {\n",
       "        vertical-align: middle;\n",
       "    }\n",
       "\n",
       "    .dataframe tbody tr th {\n",
       "        vertical-align: top;\n",
       "    }\n",
       "\n",
       "    .dataframe thead th {\n",
       "        text-align: right;\n",
       "    }\n",
       "</style>\n",
       "<table border=\"1\" class=\"dataframe\">\n",
       "  <thead>\n",
       "    <tr style=\"text-align: right;\">\n",
       "      <th></th>\n",
       "      <th>Destination Port</th>\n",
       "      <th>Flow Duration</th>\n",
       "      <th>Total Fwd Packets</th>\n",
       "      <th>Total Backward Packets</th>\n",
       "      <th>Total Length of Fwd Packets</th>\n",
       "      <th>Total Length of Bwd Packets</th>\n",
       "      <th>Fwd Packet Length Max</th>\n",
       "      <th>Fwd Packet Length Min</th>\n",
       "      <th>Fwd Packet Length Mean</th>\n",
       "      <th>Fwd Packet Length Std</th>\n",
       "      <th>Bwd Packet Length Max</th>\n",
       "      <th>Bwd Packet Length Min</th>\n",
       "      <th>Bwd Packet Length Mean</th>\n",
       "      <th>Bwd Packet Length Std</th>\n",
       "      <th>Flow Bytes/s</th>\n",
       "      <th>Flow Packets/s</th>\n",
       "      <th>Flow IAT Mean</th>\n",
       "      <th>Flow IAT Std</th>\n",
       "      <th>Flow IAT Max</th>\n",
       "      <th>Flow IAT Min</th>\n",
       "      <th>Fwd IAT Total</th>\n",
       "      <th>Fwd IAT Mean</th>\n",
       "      <th>Fwd IAT Std</th>\n",
       "      <th>Fwd IAT Max</th>\n",
       "      <th>Fwd IAT Min</th>\n",
       "      <th>Bwd IAT Total</th>\n",
       "      <th>Bwd IAT Mean</th>\n",
       "      <th>Bwd IAT Std</th>\n",
       "      <th>Bwd IAT Max</th>\n",
       "      <th>Bwd IAT Min</th>\n",
       "      <th>Fwd PSH Flags</th>\n",
       "      <th>Bwd PSH Flags</th>\n",
       "      <th>Fwd URG Flags</th>\n",
       "      <th>Bwd URG Flags</th>\n",
       "      <th>Fwd Header Length</th>\n",
       "      <th>Bwd Header Length</th>\n",
       "      <th>Fwd Packets/s</th>\n",
       "      <th>Bwd Packets/s</th>\n",
       "      <th>Min Packet Length</th>\n",
       "      <th>Max Packet Length</th>\n",
       "      <th>Packet Length Mean</th>\n",
       "      <th>Packet Length Std</th>\n",
       "      <th>Packet Length Variance</th>\n",
       "      <th>FIN Flag Count</th>\n",
       "      <th>SYN Flag Count</th>\n",
       "      <th>RST Flag Count</th>\n",
       "      <th>PSH Flag Count</th>\n",
       "      <th>ACK Flag Count</th>\n",
       "      <th>URG Flag Count</th>\n",
       "      <th>CWE Flag Count</th>\n",
       "      <th>ECE Flag Count</th>\n",
       "      <th>Down/Up Ratio</th>\n",
       "      <th>Average Packet Size</th>\n",
       "      <th>Avg Fwd Segment Size</th>\n",
       "      <th>Avg Bwd Segment Size</th>\n",
       "      <th>Fwd Header Length.1</th>\n",
       "      <th>Fwd Avg Bytes/Bulk</th>\n",
       "      <th>Fwd Avg Packets/Bulk</th>\n",
       "      <th>Fwd Avg Bulk Rate</th>\n",
       "      <th>Bwd Avg Bytes/Bulk</th>\n",
       "      <th>Bwd Avg Packets/Bulk</th>\n",
       "      <th>Bwd Avg Bulk Rate</th>\n",
       "      <th>Subflow Fwd Packets</th>\n",
       "      <th>Subflow Fwd Bytes</th>\n",
       "      <th>Subflow Bwd Packets</th>\n",
       "      <th>Subflow Bwd Bytes</th>\n",
       "      <th>Init_Win_bytes_forward</th>\n",
       "      <th>Init_Win_bytes_backward</th>\n",
       "      <th>act_data_pkt_fwd</th>\n",
       "      <th>min_seg_size_forward</th>\n",
       "      <th>Active Mean</th>\n",
       "      <th>Active Std</th>\n",
       "      <th>Active Max</th>\n",
       "      <th>Active Min</th>\n",
       "      <th>Idle Mean</th>\n",
       "      <th>Idle Std</th>\n",
       "      <th>Idle Max</th>\n",
       "      <th>Idle Min</th>\n",
       "      <th>Label</th>\n",
       "    </tr>\n",
       "  </thead>\n",
       "  <tbody>\n",
       "    <tr>\n",
       "      <th>0</th>\n",
       "      <td>54865</td>\n",
       "      <td>3</td>\n",
       "      <td>2</td>\n",
       "      <td>0</td>\n",
       "      <td>12</td>\n",
       "      <td>0</td>\n",
       "      <td>6</td>\n",
       "      <td>6</td>\n",
       "      <td>6.0</td>\n",
       "      <td>0.0</td>\n",
       "      <td>0</td>\n",
       "      <td>0</td>\n",
       "      <td>0.0</td>\n",
       "      <td>0.0</td>\n",
       "      <td>4.000000e+06</td>\n",
       "      <td>666666.66670</td>\n",
       "      <td>3.0</td>\n",
       "      <td>0.0</td>\n",
       "      <td>3</td>\n",
       "      <td>3</td>\n",
       "      <td>3</td>\n",
       "      <td>3.0</td>\n",
       "      <td>0.0</td>\n",
       "      <td>3</td>\n",
       "      <td>3</td>\n",
       "      <td>0</td>\n",
       "      <td>0.0</td>\n",
       "      <td>0.0</td>\n",
       "      <td>0</td>\n",
       "      <td>0</td>\n",
       "      <td>0</td>\n",
       "      <td>0</td>\n",
       "      <td>0</td>\n",
       "      <td>0</td>\n",
       "      <td>40</td>\n",
       "      <td>0</td>\n",
       "      <td>666666.666700</td>\n",
       "      <td>0.000000</td>\n",
       "      <td>6</td>\n",
       "      <td>6</td>\n",
       "      <td>6.0</td>\n",
       "      <td>0.0</td>\n",
       "      <td>0.0</td>\n",
       "      <td>0</td>\n",
       "      <td>0</td>\n",
       "      <td>0</td>\n",
       "      <td>0</td>\n",
       "      <td>1</td>\n",
       "      <td>0</td>\n",
       "      <td>0</td>\n",
       "      <td>0</td>\n",
       "      <td>0</td>\n",
       "      <td>9.0</td>\n",
       "      <td>6.0</td>\n",
       "      <td>0.0</td>\n",
       "      <td>40</td>\n",
       "      <td>0</td>\n",
       "      <td>0</td>\n",
       "      <td>0</td>\n",
       "      <td>0</td>\n",
       "      <td>0</td>\n",
       "      <td>0</td>\n",
       "      <td>2</td>\n",
       "      <td>12</td>\n",
       "      <td>0</td>\n",
       "      <td>0</td>\n",
       "      <td>33</td>\n",
       "      <td>-1</td>\n",
       "      <td>1</td>\n",
       "      <td>20</td>\n",
       "      <td>0.0</td>\n",
       "      <td>0.0</td>\n",
       "      <td>0</td>\n",
       "      <td>0</td>\n",
       "      <td>0.0</td>\n",
       "      <td>0.0</td>\n",
       "      <td>0</td>\n",
       "      <td>0</td>\n",
       "      <td>BENIGN</td>\n",
       "    </tr>\n",
       "    <tr>\n",
       "      <th>1</th>\n",
       "      <td>55054</td>\n",
       "      <td>109</td>\n",
       "      <td>1</td>\n",
       "      <td>1</td>\n",
       "      <td>6</td>\n",
       "      <td>6</td>\n",
       "      <td>6</td>\n",
       "      <td>6</td>\n",
       "      <td>6.0</td>\n",
       "      <td>0.0</td>\n",
       "      <td>6</td>\n",
       "      <td>6</td>\n",
       "      <td>6.0</td>\n",
       "      <td>0.0</td>\n",
       "      <td>1.100917e+05</td>\n",
       "      <td>18348.62385</td>\n",
       "      <td>109.0</td>\n",
       "      <td>0.0</td>\n",
       "      <td>109</td>\n",
       "      <td>109</td>\n",
       "      <td>0</td>\n",
       "      <td>0.0</td>\n",
       "      <td>0.0</td>\n",
       "      <td>0</td>\n",
       "      <td>0</td>\n",
       "      <td>0</td>\n",
       "      <td>0.0</td>\n",
       "      <td>0.0</td>\n",
       "      <td>0</td>\n",
       "      <td>0</td>\n",
       "      <td>0</td>\n",
       "      <td>0</td>\n",
       "      <td>0</td>\n",
       "      <td>0</td>\n",
       "      <td>20</td>\n",
       "      <td>20</td>\n",
       "      <td>9174.311927</td>\n",
       "      <td>9174.311927</td>\n",
       "      <td>6</td>\n",
       "      <td>6</td>\n",
       "      <td>6.0</td>\n",
       "      <td>0.0</td>\n",
       "      <td>0.0</td>\n",
       "      <td>0</td>\n",
       "      <td>0</td>\n",
       "      <td>0</td>\n",
       "      <td>0</td>\n",
       "      <td>1</td>\n",
       "      <td>1</td>\n",
       "      <td>0</td>\n",
       "      <td>0</td>\n",
       "      <td>1</td>\n",
       "      <td>9.0</td>\n",
       "      <td>6.0</td>\n",
       "      <td>6.0</td>\n",
       "      <td>20</td>\n",
       "      <td>0</td>\n",
       "      <td>0</td>\n",
       "      <td>0</td>\n",
       "      <td>0</td>\n",
       "      <td>0</td>\n",
       "      <td>0</td>\n",
       "      <td>1</td>\n",
       "      <td>6</td>\n",
       "      <td>1</td>\n",
       "      <td>6</td>\n",
       "      <td>29</td>\n",
       "      <td>256</td>\n",
       "      <td>0</td>\n",
       "      <td>20</td>\n",
       "      <td>0.0</td>\n",
       "      <td>0.0</td>\n",
       "      <td>0</td>\n",
       "      <td>0</td>\n",
       "      <td>0.0</td>\n",
       "      <td>0.0</td>\n",
       "      <td>0</td>\n",
       "      <td>0</td>\n",
       "      <td>BENIGN</td>\n",
       "    </tr>\n",
       "  </tbody>\n",
       "</table>\n",
       "</div>"
      ],
      "text/plain": [
       "    Destination Port   Flow Duration   Total Fwd Packets  \\\n",
       "0              54865               3                   2   \n",
       "1              55054             109                   1   \n",
       "\n",
       "    Total Backward Packets  Total Length of Fwd Packets  \\\n",
       "0                        0                           12   \n",
       "1                        1                            6   \n",
       "\n",
       "    Total Length of Bwd Packets   Fwd Packet Length Max  \\\n",
       "0                             0                       6   \n",
       "1                             6                       6   \n",
       "\n",
       "    Fwd Packet Length Min   Fwd Packet Length Mean   Fwd Packet Length Std  \\\n",
       "0                       6                      6.0                     0.0   \n",
       "1                       6                      6.0                     0.0   \n",
       "\n",
       "   Bwd Packet Length Max   Bwd Packet Length Min   Bwd Packet Length Mean  \\\n",
       "0                      0                       0                      0.0   \n",
       "1                      6                       6                      6.0   \n",
       "\n",
       "    Bwd Packet Length Std  Flow Bytes/s   Flow Packets/s   Flow IAT Mean  \\\n",
       "0                     0.0  4.000000e+06     666666.66670             3.0   \n",
       "1                     0.0  1.100917e+05      18348.62385           109.0   \n",
       "\n",
       "    Flow IAT Std   Flow IAT Max   Flow IAT Min  Fwd IAT Total   Fwd IAT Mean  \\\n",
       "0            0.0              3              3              3            3.0   \n",
       "1            0.0            109            109              0            0.0   \n",
       "\n",
       "    Fwd IAT Std   Fwd IAT Max   Fwd IAT Min  Bwd IAT Total   Bwd IAT Mean  \\\n",
       "0           0.0             3             3              0            0.0   \n",
       "1           0.0             0             0              0            0.0   \n",
       "\n",
       "    Bwd IAT Std   Bwd IAT Max   Bwd IAT Min  Fwd PSH Flags   Bwd PSH Flags  \\\n",
       "0           0.0             0             0              0               0   \n",
       "1           0.0             0             0              0               0   \n",
       "\n",
       "    Fwd URG Flags   Bwd URG Flags   Fwd Header Length   Bwd Header Length  \\\n",
       "0               0               0                  40                   0   \n",
       "1               0               0                  20                  20   \n",
       "\n",
       "   Fwd Packets/s   Bwd Packets/s   Min Packet Length   Max Packet Length  \\\n",
       "0  666666.666700        0.000000                   6                   6   \n",
       "1    9174.311927     9174.311927                   6                   6   \n",
       "\n",
       "    Packet Length Mean   Packet Length Std   Packet Length Variance  \\\n",
       "0                  6.0                 0.0                      0.0   \n",
       "1                  6.0                 0.0                      0.0   \n",
       "\n",
       "   FIN Flag Count   SYN Flag Count   RST Flag Count   PSH Flag Count  \\\n",
       "0               0                0                0                0   \n",
       "1               0                0                0                0   \n",
       "\n",
       "    ACK Flag Count   URG Flag Count   CWE Flag Count   ECE Flag Count  \\\n",
       "0                1                0                0                0   \n",
       "1                1                1                0                0   \n",
       "\n",
       "    Down/Up Ratio   Average Packet Size   Avg Fwd Segment Size  \\\n",
       "0               0                   9.0                    6.0   \n",
       "1               1                   9.0                    6.0   \n",
       "\n",
       "    Avg Bwd Segment Size   Fwd Header Length.1  Fwd Avg Bytes/Bulk  \\\n",
       "0                    0.0                    40                   0   \n",
       "1                    6.0                    20                   0   \n",
       "\n",
       "    Fwd Avg Packets/Bulk   Fwd Avg Bulk Rate   Bwd Avg Bytes/Bulk  \\\n",
       "0                      0                   0                    0   \n",
       "1                      0                   0                    0   \n",
       "\n",
       "    Bwd Avg Packets/Bulk  Bwd Avg Bulk Rate  Subflow Fwd Packets  \\\n",
       "0                      0                  0                    2   \n",
       "1                      0                  0                    1   \n",
       "\n",
       "    Subflow Fwd Bytes   Subflow Bwd Packets   Subflow Bwd Bytes  \\\n",
       "0                  12                     0                   0   \n",
       "1                   6                     1                   6   \n",
       "\n",
       "   Init_Win_bytes_forward   Init_Win_bytes_backward   act_data_pkt_fwd  \\\n",
       "0                      33                        -1                  1   \n",
       "1                      29                       256                  0   \n",
       "\n",
       "    min_seg_size_forward  Active Mean   Active Std   Active Max   Active Min  \\\n",
       "0                     20          0.0          0.0            0            0   \n",
       "1                     20          0.0          0.0            0            0   \n",
       "\n",
       "   Idle Mean   Idle Std   Idle Max   Idle Min   Label  \n",
       "0        0.0        0.0          0          0  BENIGN  \n",
       "1        0.0        0.0          0          0  BENIGN  "
      ]
     },
     "execution_count": 4,
     "metadata": {},
     "output_type": "execute_result"
    }
   ],
   "source": [
    "df.head(2)"
   ]
  },
  {
   "cell_type": "code",
   "execution_count": 5,
   "id": "314ed4f5",
   "metadata": {
    "execution": {
     "iopub.execute_input": "2024-07-20T17:17:08.855995Z",
     "iopub.status.busy": "2024-07-20T17:17:08.855540Z",
     "iopub.status.idle": "2024-07-20T17:17:08.909489Z",
     "shell.execute_reply": "2024-07-20T17:17:08.908301Z"
    },
    "papermill": {
     "duration": 0.068905,
     "end_time": "2024-07-20T17:17:08.912310",
     "exception": false,
     "start_time": "2024-07-20T17:17:08.843405",
     "status": "completed"
    },
    "tags": []
   },
   "outputs": [
    {
     "data": {
      "text/html": [
       "<div>\n",
       "<style scoped>\n",
       "    .dataframe tbody tr th:only-of-type {\n",
       "        vertical-align: middle;\n",
       "    }\n",
       "\n",
       "    .dataframe tbody tr th {\n",
       "        vertical-align: top;\n",
       "    }\n",
       "\n",
       "    .dataframe thead th {\n",
       "        text-align: right;\n",
       "    }\n",
       "</style>\n",
       "<table border=\"1\" class=\"dataframe\">\n",
       "  <thead>\n",
       "    <tr style=\"text-align: right;\">\n",
       "      <th></th>\n",
       "      <th>Destination Port</th>\n",
       "      <th>Flow Duration</th>\n",
       "      <th>Total Fwd Packets</th>\n",
       "      <th>Total Backward Packets</th>\n",
       "      <th>Total Length of Fwd Packets</th>\n",
       "      <th>Total Length of Bwd Packets</th>\n",
       "      <th>Fwd Packet Length Max</th>\n",
       "      <th>Fwd Packet Length Min</th>\n",
       "      <th>Fwd Packet Length Mean</th>\n",
       "      <th>Fwd Packet Length Std</th>\n",
       "      <th>Bwd Packet Length Max</th>\n",
       "      <th>Bwd Packet Length Min</th>\n",
       "      <th>Bwd Packet Length Mean</th>\n",
       "      <th>Bwd Packet Length Std</th>\n",
       "      <th>Flow Bytes/s</th>\n",
       "      <th>Flow Packets/s</th>\n",
       "      <th>Flow IAT Mean</th>\n",
       "      <th>Flow IAT Std</th>\n",
       "      <th>Flow IAT Max</th>\n",
       "      <th>Flow IAT Min</th>\n",
       "      <th>Fwd IAT Total</th>\n",
       "      <th>Fwd IAT Mean</th>\n",
       "      <th>Fwd IAT Std</th>\n",
       "      <th>Fwd IAT Max</th>\n",
       "      <th>Fwd IAT Min</th>\n",
       "      <th>Bwd IAT Total</th>\n",
       "      <th>Bwd IAT Mean</th>\n",
       "      <th>Bwd IAT Std</th>\n",
       "      <th>Bwd IAT Max</th>\n",
       "      <th>Bwd IAT Min</th>\n",
       "      <th>Fwd PSH Flags</th>\n",
       "      <th>Bwd PSH Flags</th>\n",
       "      <th>Fwd URG Flags</th>\n",
       "      <th>Bwd URG Flags</th>\n",
       "      <th>Fwd Header Length</th>\n",
       "      <th>Bwd Header Length</th>\n",
       "      <th>Fwd Packets/s</th>\n",
       "      <th>Bwd Packets/s</th>\n",
       "      <th>Min Packet Length</th>\n",
       "      <th>Max Packet Length</th>\n",
       "      <th>Packet Length Mean</th>\n",
       "      <th>Packet Length Std</th>\n",
       "      <th>Packet Length Variance</th>\n",
       "      <th>FIN Flag Count</th>\n",
       "      <th>SYN Flag Count</th>\n",
       "      <th>RST Flag Count</th>\n",
       "      <th>PSH Flag Count</th>\n",
       "      <th>ACK Flag Count</th>\n",
       "      <th>URG Flag Count</th>\n",
       "      <th>CWE Flag Count</th>\n",
       "      <th>ECE Flag Count</th>\n",
       "      <th>Down/Up Ratio</th>\n",
       "      <th>Average Packet Size</th>\n",
       "      <th>Avg Fwd Segment Size</th>\n",
       "      <th>Avg Bwd Segment Size</th>\n",
       "      <th>Fwd Header Length.1</th>\n",
       "      <th>Fwd Avg Bytes/Bulk</th>\n",
       "      <th>Fwd Avg Packets/Bulk</th>\n",
       "      <th>Fwd Avg Bulk Rate</th>\n",
       "      <th>Bwd Avg Bytes/Bulk</th>\n",
       "      <th>Bwd Avg Packets/Bulk</th>\n",
       "      <th>Bwd Avg Bulk Rate</th>\n",
       "      <th>Subflow Fwd Packets</th>\n",
       "      <th>Subflow Fwd Bytes</th>\n",
       "      <th>Subflow Bwd Packets</th>\n",
       "      <th>Subflow Bwd Bytes</th>\n",
       "      <th>Init_Win_bytes_forward</th>\n",
       "      <th>Init_Win_bytes_backward</th>\n",
       "      <th>act_data_pkt_fwd</th>\n",
       "      <th>min_seg_size_forward</th>\n",
       "      <th>Active Mean</th>\n",
       "      <th>Active Std</th>\n",
       "      <th>Active Max</th>\n",
       "      <th>Active Min</th>\n",
       "      <th>Idle Mean</th>\n",
       "      <th>Idle Std</th>\n",
       "      <th>Idle Max</th>\n",
       "      <th>Idle Min</th>\n",
       "      <th>Label</th>\n",
       "    </tr>\n",
       "  </thead>\n",
       "  <tbody>\n",
       "    <tr>\n",
       "      <th>225743</th>\n",
       "      <td>61323</td>\n",
       "      <td>48</td>\n",
       "      <td>2</td>\n",
       "      <td>0</td>\n",
       "      <td>12</td>\n",
       "      <td>0</td>\n",
       "      <td>6</td>\n",
       "      <td>6</td>\n",
       "      <td>6.0</td>\n",
       "      <td>0.0</td>\n",
       "      <td>0</td>\n",
       "      <td>0</td>\n",
       "      <td>0.0</td>\n",
       "      <td>0.0</td>\n",
       "      <td>250000.0000</td>\n",
       "      <td>41666.66667</td>\n",
       "      <td>48.0</td>\n",
       "      <td>0.0</td>\n",
       "      <td>48</td>\n",
       "      <td>48</td>\n",
       "      <td>48</td>\n",
       "      <td>48.0</td>\n",
       "      <td>0.0</td>\n",
       "      <td>48</td>\n",
       "      <td>48</td>\n",
       "      <td>0</td>\n",
       "      <td>0.0</td>\n",
       "      <td>0.0</td>\n",
       "      <td>0</td>\n",
       "      <td>0</td>\n",
       "      <td>0</td>\n",
       "      <td>0</td>\n",
       "      <td>0</td>\n",
       "      <td>0</td>\n",
       "      <td>40</td>\n",
       "      <td>0</td>\n",
       "      <td>41666.66667</td>\n",
       "      <td>0.00000</td>\n",
       "      <td>6</td>\n",
       "      <td>6</td>\n",
       "      <td>6.0</td>\n",
       "      <td>0.0</td>\n",
       "      <td>0.0</td>\n",
       "      <td>0</td>\n",
       "      <td>0</td>\n",
       "      <td>0</td>\n",
       "      <td>0</td>\n",
       "      <td>1</td>\n",
       "      <td>0</td>\n",
       "      <td>0</td>\n",
       "      <td>0</td>\n",
       "      <td>0</td>\n",
       "      <td>9.0</td>\n",
       "      <td>6.0</td>\n",
       "      <td>0.0</td>\n",
       "      <td>40</td>\n",
       "      <td>0</td>\n",
       "      <td>0</td>\n",
       "      <td>0</td>\n",
       "      <td>0</td>\n",
       "      <td>0</td>\n",
       "      <td>0</td>\n",
       "      <td>2</td>\n",
       "      <td>12</td>\n",
       "      <td>0</td>\n",
       "      <td>0</td>\n",
       "      <td>4719</td>\n",
       "      <td>-1</td>\n",
       "      <td>1</td>\n",
       "      <td>20</td>\n",
       "      <td>0.0</td>\n",
       "      <td>0.0</td>\n",
       "      <td>0</td>\n",
       "      <td>0</td>\n",
       "      <td>0.0</td>\n",
       "      <td>0.0</td>\n",
       "      <td>0</td>\n",
       "      <td>0</td>\n",
       "      <td>BENIGN</td>\n",
       "    </tr>\n",
       "    <tr>\n",
       "      <th>225744</th>\n",
       "      <td>61326</td>\n",
       "      <td>68</td>\n",
       "      <td>1</td>\n",
       "      <td>1</td>\n",
       "      <td>6</td>\n",
       "      <td>6</td>\n",
       "      <td>6</td>\n",
       "      <td>6</td>\n",
       "      <td>6.0</td>\n",
       "      <td>0.0</td>\n",
       "      <td>6</td>\n",
       "      <td>6</td>\n",
       "      <td>6.0</td>\n",
       "      <td>0.0</td>\n",
       "      <td>176470.5882</td>\n",
       "      <td>29411.76471</td>\n",
       "      <td>68.0</td>\n",
       "      <td>0.0</td>\n",
       "      <td>68</td>\n",
       "      <td>68</td>\n",
       "      <td>0</td>\n",
       "      <td>0.0</td>\n",
       "      <td>0.0</td>\n",
       "      <td>0</td>\n",
       "      <td>0</td>\n",
       "      <td>0</td>\n",
       "      <td>0.0</td>\n",
       "      <td>0.0</td>\n",
       "      <td>0</td>\n",
       "      <td>0</td>\n",
       "      <td>0</td>\n",
       "      <td>0</td>\n",
       "      <td>0</td>\n",
       "      <td>0</td>\n",
       "      <td>20</td>\n",
       "      <td>20</td>\n",
       "      <td>14705.88235</td>\n",
       "      <td>14705.88235</td>\n",
       "      <td>6</td>\n",
       "      <td>6</td>\n",
       "      <td>6.0</td>\n",
       "      <td>0.0</td>\n",
       "      <td>0.0</td>\n",
       "      <td>0</td>\n",
       "      <td>0</td>\n",
       "      <td>0</td>\n",
       "      <td>0</td>\n",
       "      <td>1</td>\n",
       "      <td>1</td>\n",
       "      <td>0</td>\n",
       "      <td>0</td>\n",
       "      <td>1</td>\n",
       "      <td>9.0</td>\n",
       "      <td>6.0</td>\n",
       "      <td>6.0</td>\n",
       "      <td>20</td>\n",
       "      <td>0</td>\n",
       "      <td>0</td>\n",
       "      <td>0</td>\n",
       "      <td>0</td>\n",
       "      <td>0</td>\n",
       "      <td>0</td>\n",
       "      <td>1</td>\n",
       "      <td>6</td>\n",
       "      <td>1</td>\n",
       "      <td>6</td>\n",
       "      <td>13140</td>\n",
       "      <td>64240</td>\n",
       "      <td>0</td>\n",
       "      <td>20</td>\n",
       "      <td>0.0</td>\n",
       "      <td>0.0</td>\n",
       "      <td>0</td>\n",
       "      <td>0</td>\n",
       "      <td>0.0</td>\n",
       "      <td>0.0</td>\n",
       "      <td>0</td>\n",
       "      <td>0</td>\n",
       "      <td>BENIGN</td>\n",
       "    </tr>\n",
       "  </tbody>\n",
       "</table>\n",
       "</div>"
      ],
      "text/plain": [
       "         Destination Port   Flow Duration   Total Fwd Packets  \\\n",
       "225743              61323              48                   2   \n",
       "225744              61326              68                   1   \n",
       "\n",
       "         Total Backward Packets  Total Length of Fwd Packets  \\\n",
       "225743                        0                           12   \n",
       "225744                        1                            6   \n",
       "\n",
       "         Total Length of Bwd Packets   Fwd Packet Length Max  \\\n",
       "225743                             0                       6   \n",
       "225744                             6                       6   \n",
       "\n",
       "         Fwd Packet Length Min   Fwd Packet Length Mean  \\\n",
       "225743                       6                      6.0   \n",
       "225744                       6                      6.0   \n",
       "\n",
       "         Fwd Packet Length Std  Bwd Packet Length Max   Bwd Packet Length Min  \\\n",
       "225743                     0.0                      0                       0   \n",
       "225744                     0.0                      6                       6   \n",
       "\n",
       "         Bwd Packet Length Mean   Bwd Packet Length Std  Flow Bytes/s  \\\n",
       "225743                      0.0                     0.0   250000.0000   \n",
       "225744                      6.0                     0.0   176470.5882   \n",
       "\n",
       "         Flow Packets/s   Flow IAT Mean   Flow IAT Std   Flow IAT Max  \\\n",
       "225743      41666.66667            48.0            0.0             48   \n",
       "225744      29411.76471            68.0            0.0             68   \n",
       "\n",
       "         Flow IAT Min  Fwd IAT Total   Fwd IAT Mean   Fwd IAT Std  \\\n",
       "225743             48             48           48.0           0.0   \n",
       "225744             68              0            0.0           0.0   \n",
       "\n",
       "         Fwd IAT Max   Fwd IAT Min  Bwd IAT Total   Bwd IAT Mean  \\\n",
       "225743            48            48              0            0.0   \n",
       "225744             0             0              0            0.0   \n",
       "\n",
       "         Bwd IAT Std   Bwd IAT Max   Bwd IAT Min  Fwd PSH Flags  \\\n",
       "225743           0.0             0             0              0   \n",
       "225744           0.0             0             0              0   \n",
       "\n",
       "         Bwd PSH Flags   Fwd URG Flags   Bwd URG Flags   Fwd Header Length  \\\n",
       "225743               0               0               0                  40   \n",
       "225744               0               0               0                  20   \n",
       "\n",
       "         Bwd Header Length  Fwd Packets/s   Bwd Packets/s   Min Packet Length  \\\n",
       "225743                   0    41666.66667         0.00000                   6   \n",
       "225744                  20    14705.88235     14705.88235                   6   \n",
       "\n",
       "         Max Packet Length   Packet Length Mean   Packet Length Std  \\\n",
       "225743                   6                  6.0                 0.0   \n",
       "225744                   6                  6.0                 0.0   \n",
       "\n",
       "         Packet Length Variance  FIN Flag Count   SYN Flag Count  \\\n",
       "225743                      0.0               0                0   \n",
       "225744                      0.0               0                0   \n",
       "\n",
       "         RST Flag Count   PSH Flag Count   ACK Flag Count   URG Flag Count  \\\n",
       "225743                0                0                1                0   \n",
       "225744                0                0                1                1   \n",
       "\n",
       "         CWE Flag Count   ECE Flag Count   Down/Up Ratio  \\\n",
       "225743                0                0               0   \n",
       "225744                0                0               1   \n",
       "\n",
       "         Average Packet Size   Avg Fwd Segment Size   Avg Bwd Segment Size  \\\n",
       "225743                   9.0                    6.0                    0.0   \n",
       "225744                   9.0                    6.0                    6.0   \n",
       "\n",
       "         Fwd Header Length.1  Fwd Avg Bytes/Bulk   Fwd Avg Packets/Bulk  \\\n",
       "225743                    40                   0                      0   \n",
       "225744                    20                   0                      0   \n",
       "\n",
       "         Fwd Avg Bulk Rate   Bwd Avg Bytes/Bulk   Bwd Avg Packets/Bulk  \\\n",
       "225743                   0                    0                      0   \n",
       "225744                   0                    0                      0   \n",
       "\n",
       "        Bwd Avg Bulk Rate  Subflow Fwd Packets   Subflow Fwd Bytes  \\\n",
       "225743                  0                    2                  12   \n",
       "225744                  0                    1                   6   \n",
       "\n",
       "         Subflow Bwd Packets   Subflow Bwd Bytes  Init_Win_bytes_forward  \\\n",
       "225743                     0                   0                    4719   \n",
       "225744                     1                   6                   13140   \n",
       "\n",
       "         Init_Win_bytes_backward   act_data_pkt_fwd   min_seg_size_forward  \\\n",
       "225743                        -1                  1                     20   \n",
       "225744                     64240                  0                     20   \n",
       "\n",
       "        Active Mean   Active Std   Active Max   Active Min  Idle Mean  \\\n",
       "225743          0.0          0.0            0            0        0.0   \n",
       "225744          0.0          0.0            0            0        0.0   \n",
       "\n",
       "         Idle Std   Idle Max   Idle Min   Label  \n",
       "225743        0.0          0          0  BENIGN  \n",
       "225744        0.0          0          0  BENIGN  "
      ]
     },
     "execution_count": 5,
     "metadata": {},
     "output_type": "execute_result"
    }
   ],
   "source": [
    "df.tail(2)"
   ]
  },
  {
   "cell_type": "code",
   "execution_count": 6,
   "id": "bf66fd52",
   "metadata": {
    "execution": {
     "iopub.execute_input": "2024-07-20T17:17:08.937395Z",
     "iopub.status.busy": "2024-07-20T17:17:08.936365Z",
     "iopub.status.idle": "2024-07-20T17:17:09.015942Z",
     "shell.execute_reply": "2024-07-20T17:17:09.014490Z"
    },
    "papermill": {
     "duration": 0.095397,
     "end_time": "2024-07-20T17:17:09.018966",
     "exception": false,
     "start_time": "2024-07-20T17:17:08.923569",
     "status": "completed"
    },
    "tags": []
   },
   "outputs": [
    {
     "name": "stdout",
     "output_type": "stream",
     "text": [
      "<class 'pandas.core.frame.DataFrame'>\n",
      "RangeIndex: 225745 entries, 0 to 225744\n",
      "Data columns (total 79 columns):\n",
      " #   Column                        Non-Null Count   Dtype  \n",
      "---  ------                        --------------   -----  \n",
      " 0    Destination Port             225745 non-null  int64  \n",
      " 1    Flow Duration                225745 non-null  int64  \n",
      " 2    Total Fwd Packets            225745 non-null  int64  \n",
      " 3    Total Backward Packets       225745 non-null  int64  \n",
      " 4   Total Length of Fwd Packets   225745 non-null  int64  \n",
      " 5    Total Length of Bwd Packets  225745 non-null  int64  \n",
      " 6    Fwd Packet Length Max        225745 non-null  int64  \n",
      " 7    Fwd Packet Length Min        225745 non-null  int64  \n",
      " 8    Fwd Packet Length Mean       225745 non-null  float64\n",
      " 9    Fwd Packet Length Std        225745 non-null  float64\n",
      " 10  Bwd Packet Length Max         225745 non-null  int64  \n",
      " 11   Bwd Packet Length Min        225745 non-null  int64  \n",
      " 12   Bwd Packet Length Mean       225745 non-null  float64\n",
      " 13   Bwd Packet Length Std        225745 non-null  float64\n",
      " 14  Flow Bytes/s                  225741 non-null  float64\n",
      " 15   Flow Packets/s               225745 non-null  float64\n",
      " 16   Flow IAT Mean                225745 non-null  float64\n",
      " 17   Flow IAT Std                 225745 non-null  float64\n",
      " 18   Flow IAT Max                 225745 non-null  int64  \n",
      " 19   Flow IAT Min                 225745 non-null  int64  \n",
      " 20  Fwd IAT Total                 225745 non-null  int64  \n",
      " 21   Fwd IAT Mean                 225745 non-null  float64\n",
      " 22   Fwd IAT Std                  225745 non-null  float64\n",
      " 23   Fwd IAT Max                  225745 non-null  int64  \n",
      " 24   Fwd IAT Min                  225745 non-null  int64  \n",
      " 25  Bwd IAT Total                 225745 non-null  int64  \n",
      " 26   Bwd IAT Mean                 225745 non-null  float64\n",
      " 27   Bwd IAT Std                  225745 non-null  float64\n",
      " 28   Bwd IAT Max                  225745 non-null  int64  \n",
      " 29   Bwd IAT Min                  225745 non-null  int64  \n",
      " 30  Fwd PSH Flags                 225745 non-null  int64  \n",
      " 31   Bwd PSH Flags                225745 non-null  int64  \n",
      " 32   Fwd URG Flags                225745 non-null  int64  \n",
      " 33   Bwd URG Flags                225745 non-null  int64  \n",
      " 34   Fwd Header Length            225745 non-null  int64  \n",
      " 35   Bwd Header Length            225745 non-null  int64  \n",
      " 36  Fwd Packets/s                 225745 non-null  float64\n",
      " 37   Bwd Packets/s                225745 non-null  float64\n",
      " 38   Min Packet Length            225745 non-null  int64  \n",
      " 39   Max Packet Length            225745 non-null  int64  \n",
      " 40   Packet Length Mean           225745 non-null  float64\n",
      " 41   Packet Length Std            225745 non-null  float64\n",
      " 42   Packet Length Variance       225745 non-null  float64\n",
      " 43  FIN Flag Count                225745 non-null  int64  \n",
      " 44   SYN Flag Count               225745 non-null  int64  \n",
      " 45   RST Flag Count               225745 non-null  int64  \n",
      " 46   PSH Flag Count               225745 non-null  int64  \n",
      " 47   ACK Flag Count               225745 non-null  int64  \n",
      " 48   URG Flag Count               225745 non-null  int64  \n",
      " 49   CWE Flag Count               225745 non-null  int64  \n",
      " 50   ECE Flag Count               225745 non-null  int64  \n",
      " 51   Down/Up Ratio                225745 non-null  int64  \n",
      " 52   Average Packet Size          225745 non-null  float64\n",
      " 53   Avg Fwd Segment Size         225745 non-null  float64\n",
      " 54   Avg Bwd Segment Size         225745 non-null  float64\n",
      " 55   Fwd Header Length.1          225745 non-null  int64  \n",
      " 56  Fwd Avg Bytes/Bulk            225745 non-null  int64  \n",
      " 57   Fwd Avg Packets/Bulk         225745 non-null  int64  \n",
      " 58   Fwd Avg Bulk Rate            225745 non-null  int64  \n",
      " 59   Bwd Avg Bytes/Bulk           225745 non-null  int64  \n",
      " 60   Bwd Avg Packets/Bulk         225745 non-null  int64  \n",
      " 61  Bwd Avg Bulk Rate             225745 non-null  int64  \n",
      " 62  Subflow Fwd Packets           225745 non-null  int64  \n",
      " 63   Subflow Fwd Bytes            225745 non-null  int64  \n",
      " 64   Subflow Bwd Packets          225745 non-null  int64  \n",
      " 65   Subflow Bwd Bytes            225745 non-null  int64  \n",
      " 66  Init_Win_bytes_forward        225745 non-null  int64  \n",
      " 67   Init_Win_bytes_backward      225745 non-null  int64  \n",
      " 68   act_data_pkt_fwd             225745 non-null  int64  \n",
      " 69   min_seg_size_forward         225745 non-null  int64  \n",
      " 70  Active Mean                   225745 non-null  float64\n",
      " 71   Active Std                   225745 non-null  float64\n",
      " 72   Active Max                   225745 non-null  int64  \n",
      " 73   Active Min                   225745 non-null  int64  \n",
      " 74  Idle Mean                     225745 non-null  float64\n",
      " 75   Idle Std                     225745 non-null  float64\n",
      " 76   Idle Max                     225745 non-null  int64  \n",
      " 77   Idle Min                     225745 non-null  int64  \n",
      " 78   Label                        225745 non-null  object \n",
      "dtypes: float64(24), int64(54), object(1)\n",
      "memory usage: 136.1+ MB\n"
     ]
    }
   ],
   "source": [
    "df.info()"
   ]
  },
  {
   "cell_type": "code",
   "execution_count": 7,
   "id": "8fbd32f9",
   "metadata": {
    "execution": {
     "iopub.execute_input": "2024-07-20T17:17:09.044601Z",
     "iopub.status.busy": "2024-07-20T17:17:09.044129Z",
     "iopub.status.idle": "2024-07-20T17:17:09.052885Z",
     "shell.execute_reply": "2024-07-20T17:17:09.051695Z"
    },
    "papermill": {
     "duration": 0.024502,
     "end_time": "2024-07-20T17:17:09.055392",
     "exception": false,
     "start_time": "2024-07-20T17:17:09.030890",
     "status": "completed"
    },
    "tags": []
   },
   "outputs": [
    {
     "data": {
      "text/plain": [
       "Index([' Destination Port', ' Flow Duration', ' Total Fwd Packets',\n",
       "       ' Total Backward Packets', 'Total Length of Fwd Packets',\n",
       "       ' Total Length of Bwd Packets', ' Fwd Packet Length Max',\n",
       "       ' Fwd Packet Length Min', ' Fwd Packet Length Mean',\n",
       "       ' Fwd Packet Length Std', 'Bwd Packet Length Max',\n",
       "       ' Bwd Packet Length Min', ' Bwd Packet Length Mean',\n",
       "       ' Bwd Packet Length Std', 'Flow Bytes/s', ' Flow Packets/s',\n",
       "       ' Flow IAT Mean', ' Flow IAT Std', ' Flow IAT Max', ' Flow IAT Min',\n",
       "       'Fwd IAT Total', ' Fwd IAT Mean', ' Fwd IAT Std', ' Fwd IAT Max',\n",
       "       ' Fwd IAT Min', 'Bwd IAT Total', ' Bwd IAT Mean', ' Bwd IAT Std',\n",
       "       ' Bwd IAT Max', ' Bwd IAT Min', 'Fwd PSH Flags', ' Bwd PSH Flags',\n",
       "       ' Fwd URG Flags', ' Bwd URG Flags', ' Fwd Header Length',\n",
       "       ' Bwd Header Length', 'Fwd Packets/s', ' Bwd Packets/s',\n",
       "       ' Min Packet Length', ' Max Packet Length', ' Packet Length Mean',\n",
       "       ' Packet Length Std', ' Packet Length Variance', 'FIN Flag Count',\n",
       "       ' SYN Flag Count', ' RST Flag Count', ' PSH Flag Count',\n",
       "       ' ACK Flag Count', ' URG Flag Count', ' CWE Flag Count',\n",
       "       ' ECE Flag Count', ' Down/Up Ratio', ' Average Packet Size',\n",
       "       ' Avg Fwd Segment Size', ' Avg Bwd Segment Size',\n",
       "       ' Fwd Header Length.1', 'Fwd Avg Bytes/Bulk', ' Fwd Avg Packets/Bulk',\n",
       "       ' Fwd Avg Bulk Rate', ' Bwd Avg Bytes/Bulk', ' Bwd Avg Packets/Bulk',\n",
       "       'Bwd Avg Bulk Rate', 'Subflow Fwd Packets', ' Subflow Fwd Bytes',\n",
       "       ' Subflow Bwd Packets', ' Subflow Bwd Bytes', 'Init_Win_bytes_forward',\n",
       "       ' Init_Win_bytes_backward', ' act_data_pkt_fwd',\n",
       "       ' min_seg_size_forward', 'Active Mean', ' Active Std', ' Active Max',\n",
       "       ' Active Min', 'Idle Mean', ' Idle Std', ' Idle Max', ' Idle Min',\n",
       "       ' Label'],\n",
       "      dtype='object')"
      ]
     },
     "execution_count": 7,
     "metadata": {},
     "output_type": "execute_result"
    }
   ],
   "source": [
    "df.keys()"
   ]
  },
  {
   "cell_type": "code",
   "execution_count": 8,
   "id": "d10af0ac",
   "metadata": {
    "execution": {
     "iopub.execute_input": "2024-07-20T17:17:09.082342Z",
     "iopub.status.busy": "2024-07-20T17:17:09.081837Z",
     "iopub.status.idle": "2024-07-20T17:17:09.134014Z",
     "shell.execute_reply": "2024-07-20T17:17:09.132526Z"
    },
    "papermill": {
     "duration": 0.069294,
     "end_time": "2024-07-20T17:17:09.137105",
     "exception": false,
     "start_time": "2024-07-20T17:17:09.067811",
     "status": "completed"
    },
    "tags": []
   },
   "outputs": [
    {
     "name": "stdout",
     "output_type": "stream",
     "text": [
      "Number Of target/Label Column and there Counts\n"
     ]
    },
    {
     "data": {
      "text/plain": [
       " Label\n",
       "DDoS      128027\n",
       "BENIGN     97718\n",
       "Name: count, dtype: int64"
      ]
     },
     "execution_count": 8,
     "metadata": {},
     "output_type": "execute_result"
    }
   ],
   "source": [
    "print(\"Number Of target/Label Column and there Counts\")\n",
    "df[' Label'].value_counts()"
   ]
  },
  {
   "cell_type": "code",
   "execution_count": 9,
   "id": "f01d6d2c",
   "metadata": {
    "execution": {
     "iopub.execute_input": "2024-07-20T17:17:09.164419Z",
     "iopub.status.busy": "2024-07-20T17:17:09.163988Z",
     "iopub.status.idle": "2024-07-20T17:17:09.171063Z",
     "shell.execute_reply": "2024-07-20T17:17:09.169908Z"
    },
    "papermill": {
     "duration": 0.023812,
     "end_time": "2024-07-20T17:17:09.173520",
     "exception": false,
     "start_time": "2024-07-20T17:17:09.149708",
     "status": "completed"
    },
    "tags": []
   },
   "outputs": [
    {
     "data": {
      "text/plain": [
       "(225745, 79)"
      ]
     },
     "execution_count": 9,
     "metadata": {},
     "output_type": "execute_result"
    }
   ],
   "source": [
    "df.shape"
   ]
  },
  {
   "cell_type": "code",
   "execution_count": 10,
   "id": "05d019fd",
   "metadata": {
    "execution": {
     "iopub.execute_input": "2024-07-20T17:17:09.200348Z",
     "iopub.status.busy": "2024-07-20T17:17:09.199450Z",
     "iopub.status.idle": "2024-07-20T17:17:09.266316Z",
     "shell.execute_reply": "2024-07-20T17:17:09.265242Z"
    },
    "papermill": {
     "duration": 0.083665,
     "end_time": "2024-07-20T17:17:09.269483",
     "exception": false,
     "start_time": "2024-07-20T17:17:09.185818",
     "status": "completed"
    },
    "scrolled": true,
    "tags": []
   },
   "outputs": [
    {
     "name": "stdout",
     "output_type": "stream",
     "text": [
      "Columns with Null values:\n"
     ]
    },
    {
     "data": {
      "text/plain": [
       "['Flow Bytes/s']"
      ]
     },
     "execution_count": 10,
     "metadata": {},
     "output_type": "execute_result"
    }
   ],
   "source": [
    "print(\"Columns with Null values:\")\n",
    "[features for features in df.columns if df[features].isnull().sum()>0]"
   ]
  },
  {
   "cell_type": "code",
   "execution_count": 11,
   "id": "842c2f64",
   "metadata": {
    "execution": {
     "iopub.execute_input": "2024-07-20T17:17:09.296657Z",
     "iopub.status.busy": "2024-07-20T17:17:09.296218Z",
     "iopub.status.idle": "2024-07-20T17:17:10.249847Z",
     "shell.execute_reply": "2024-07-20T17:17:10.248505Z"
    },
    "papermill": {
     "duration": 0.970498,
     "end_time": "2024-07-20T17:17:10.252787",
     "exception": false,
     "start_time": "2024-07-20T17:17:09.282289",
     "status": "completed"
    },
    "tags": []
   },
   "outputs": [
    {
     "name": "stdout",
     "output_type": "stream",
     "text": [
      "Columns with infinite values:\n"
     ]
    },
    {
     "data": {
      "text/plain": [
       "['Flow Bytes/s', ' Flow Packets/s']"
      ]
     },
     "execution_count": 11,
     "metadata": {},
     "output_type": "execute_result"
    }
   ],
   "source": [
    "print(\"Columns with infinite values:\")\n",
    "[feature for feature in df.columns if df[feature].isin([np.inf, -np.inf]).any()]"
   ]
  },
  {
   "cell_type": "markdown",
   "id": "eb5744b9",
   "metadata": {
    "papermill": {
     "duration": 0.012791,
     "end_time": "2024-07-20T17:17:10.279122",
     "exception": false,
     "start_time": "2024-07-20T17:17:10.266331",
     "status": "completed"
    },
    "tags": []
   },
   "source": [
    "### Replacing infinite values with NaN in DataFrame"
   ]
  },
  {
   "cell_type": "code",
   "execution_count": 12,
   "id": "1c410c92",
   "metadata": {
    "execution": {
     "iopub.execute_input": "2024-07-20T17:17:10.306843Z",
     "iopub.status.busy": "2024-07-20T17:17:10.306352Z",
     "iopub.status.idle": "2024-07-20T17:17:10.389070Z",
     "shell.execute_reply": "2024-07-20T17:17:10.387904Z"
    },
    "papermill": {
     "duration": 0.099898,
     "end_time": "2024-07-20T17:17:10.391972",
     "exception": false,
     "start_time": "2024-07-20T17:17:10.292074",
     "status": "completed"
    },
    "tags": []
   },
   "outputs": [],
   "source": [
    "df.replace([np.inf, -np.inf], np.nan, inplace=True)"
   ]
  },
  {
   "cell_type": "markdown",
   "id": "390b213c",
   "metadata": {
    "papermill": {
     "duration": 0.013305,
     "end_time": "2024-07-20T17:17:10.419421",
     "exception": false,
     "start_time": "2024-07-20T17:17:10.406116",
     "status": "completed"
    },
    "tags": []
   },
   "source": [
    "### Dropping NaN values"
   ]
  },
  {
   "cell_type": "code",
   "execution_count": 13,
   "id": "4a4c939b",
   "metadata": {
    "execution": {
     "iopub.execute_input": "2024-07-20T17:17:10.447536Z",
     "iopub.status.busy": "2024-07-20T17:17:10.447063Z",
     "iopub.status.idle": "2024-07-20T17:17:10.544598Z",
     "shell.execute_reply": "2024-07-20T17:17:10.543393Z"
    },
    "papermill": {
     "duration": 0.114952,
     "end_time": "2024-07-20T17:17:10.547617",
     "exception": false,
     "start_time": "2024-07-20T17:17:10.432665",
     "status": "completed"
    },
    "tags": []
   },
   "outputs": [],
   "source": [
    "df.dropna(inplace=True)"
   ]
  },
  {
   "cell_type": "code",
   "execution_count": 14,
   "id": "edc66a36",
   "metadata": {
    "execution": {
     "iopub.execute_input": "2024-07-20T17:17:10.575951Z",
     "iopub.status.busy": "2024-07-20T17:17:10.575480Z",
     "iopub.status.idle": "2024-07-20T17:17:10.582986Z",
     "shell.execute_reply": "2024-07-20T17:17:10.581533Z"
    },
    "papermill": {
     "duration": 0.024825,
     "end_time": "2024-07-20T17:17:10.585628",
     "exception": false,
     "start_time": "2024-07-20T17:17:10.560803",
     "status": "completed"
    },
    "tags": []
   },
   "outputs": [
    {
     "data": {
      "text/plain": [
       "(225711, 79)"
      ]
     },
     "execution_count": 14,
     "metadata": {},
     "output_type": "execute_result"
    }
   ],
   "source": [
    "df.shape"
   ]
  },
  {
   "cell_type": "code",
   "execution_count": 15,
   "id": "aed1d9c2",
   "metadata": {
    "execution": {
     "iopub.execute_input": "2024-07-20T17:17:10.615249Z",
     "iopub.status.busy": "2024-07-20T17:17:10.614781Z",
     "iopub.status.idle": "2024-07-20T17:17:11.108497Z",
     "shell.execute_reply": "2024-07-20T17:17:11.107267Z"
    },
    "papermill": {
     "duration": 0.511152,
     "end_time": "2024-07-20T17:17:11.111195",
     "exception": false,
     "start_time": "2024-07-20T17:17:10.600043",
     "status": "completed"
    },
    "tags": []
   },
   "outputs": [
    {
     "data": {
      "image/png": "[encoded data removed]",
      "text/plain": [
       "<Figure size 640x480 with 1 Axes>"
      ]
     },
     "metadata": {},
     "output_type": "display_data"
    }
   ],
   "source": [
    "sns.countplot(x=' Label', data=df)\n",
    "plt.show()"
   ]
  },
  {
   "cell_type": "markdown",
   "id": "5bfbe27c",
   "metadata": {
    "papermill": {
     "duration": 0.014287,
     "end_time": "2024-07-20T17:17:11.141686",
     "exception": false,
     "start_time": "2024-07-20T17:17:11.127399",
     "status": "completed"
    },
    "tags": []
   },
   "source": [
    "### **Manually Labelizing The Target Column**"
   ]
  },
  {
   "cell_type": "code",
   "execution_count": 16,
   "id": "6cbc277b",
   "metadata": {
    "execution": {
     "iopub.execute_input": "2024-07-20T17:17:11.173043Z",
     "iopub.status.busy": "2024-07-20T17:17:11.172593Z",
     "iopub.status.idle": "2024-07-20T17:17:11.206348Z",
     "shell.execute_reply": "2024-07-20T17:17:11.204938Z"
    },
    "papermill": {
     "duration": 0.051974,
     "end_time": "2024-07-20T17:17:11.209280",
     "exception": false,
     "start_time": "2024-07-20T17:17:11.157306",
     "status": "completed"
    },
    "tags": []
   },
   "outputs": [],
   "source": [
    "df[' Label'] = df[' Label'].map({'BENIGN': 0, 'DDoS': 1})"
   ]
  },
  {
   "cell_type": "markdown",
   "id": "c723a2fa",
   "metadata": {
    "papermill": {
     "duration": 0.014405,
     "end_time": "2024-07-20T17:17:11.237857",
     "exception": false,
     "start_time": "2024-07-20T17:17:11.223452",
     "status": "completed"
    },
    "tags": []
   },
   "source": [
    "### **Splitting Dataset Into Testing and Training**"
   ]
  },
  {
   "cell_type": "code",
   "execution_count": 17,
   "id": "4c4c2b12",
   "metadata": {
    "execution": {
     "iopub.execute_input": "2024-07-20T17:17:11.268604Z",
     "iopub.status.busy": "2024-07-20T17:17:11.268203Z",
     "iopub.status.idle": "2024-07-20T17:17:11.277915Z",
     "shell.execute_reply": "2024-07-20T17:17:11.276428Z"
    },
    "papermill": {
     "duration": 0.028996,
     "end_time": "2024-07-20T17:17:11.280871",
     "exception": false,
     "start_time": "2024-07-20T17:17:11.251875",
     "status": "completed"
    },
    "tags": []
   },
   "outputs": [],
   "source": [
    "predictorNames = [' Destination Port', ' Flow Duration', ' Total Fwd Packets',\n",
    "       ' Total Backward Packets', 'Total Length of Fwd Packets',\n",
    "       ' Total Length of Bwd Packets', ' Fwd Packet Length Max',\n",
    "       ' Fwd Packet Length Min', ' Fwd Packet Length Mean',\n",
    "       ' Fwd Packet Length Std', 'Bwd Packet Length Max',\n",
    "       ' Bwd Packet Length Min', ' Bwd Packet Length Mean',\n",
    "       ' Bwd Packet Length Std', 'Flow Bytes/s', ' Flow Packets/s',\n",
    "       ' Flow IAT Mean', ' Flow IAT Std', ' Flow IAT Max', ' Flow IAT Min',\n",
    "       'Fwd IAT Total', ' Fwd IAT Mean', ' Fwd IAT Std', ' Fwd IAT Max',\n",
    "       ' Fwd IAT Min', 'Bwd IAT Total', ' Bwd IAT Mean', ' Bwd IAT Std',\n",
    "       ' Bwd IAT Max', ' Bwd IAT Min', 'Fwd PSH Flags', ' Bwd PSH Flags',\n",
    "       ' Fwd URG Flags', ' Bwd URG Flags', ' Fwd Header Length',\n",
    "       ' Bwd Header Length', 'Fwd Packets/s', ' Bwd Packets/s',\n",
    "       ' Min Packet Length', ' Max Packet Length', ' Packet Length Mean',\n",
    "       ' Packet Length Std', ' Packet Length Variance', 'FIN Flag Count',\n",
    "       ' SYN Flag Count', ' RST Flag Count', ' PSH Flag Count',\n",
    "       ' ACK Flag Count', ' URG Flag Count', ' CWE Flag Count',\n",
    "       ' ECE Flag Count', ' Down/Up Ratio', ' Average Packet Size',\n",
    "       ' Avg Fwd Segment Size', ' Avg Bwd Segment Size',\n",
    "       ' Fwd Header Length.1', 'Fwd Avg Bytes/Bulk', ' Fwd Avg Packets/Bulk',\n",
    "       ' Fwd Avg Bulk Rate', ' Bwd Avg Bytes/Bulk', ' Bwd Avg Packets/Bulk',\n",
    "       'Bwd Avg Bulk Rate', 'Subflow Fwd Packets', ' Subflow Fwd Bytes',\n",
    "       ' Subflow Bwd Packets', ' Subflow Bwd Bytes', 'Init_Win_bytes_forward',\n",
    "       ' Init_Win_bytes_backward', ' act_data_pkt_fwd',\n",
    "       ' min_seg_size_forward', 'Active Mean', ' Active Std', ' Active Max',\n",
    "       ' Active Min', 'Idle Mean', ' Idle Std', ' Idle Max', ' Idle Min']"
   ]
  },
  {
   "cell_type": "code",
   "execution_count": 18,
   "id": "f8907ee2",
   "metadata": {
    "execution": {
     "iopub.execute_input": "2024-07-20T17:17:11.313048Z",
     "iopub.status.busy": "2024-07-20T17:17:11.312626Z",
     "iopub.status.idle": "2024-07-20T17:17:11.360121Z",
     "shell.execute_reply": "2024-07-20T17:17:11.358778Z"
    },
    "papermill": {
     "duration": 0.067292,
     "end_time": "2024-07-20T17:17:11.363613",
     "exception": false,
     "start_time": "2024-07-20T17:17:11.296321",
     "status": "completed"
    },
    "tags": []
   },
   "outputs": [],
   "source": [
    "predictors = df[predictorNames]"
   ]
  },
  {
   "cell_type": "code",
   "execution_count": 19,
   "id": "46d61a45",
   "metadata": {
    "execution": {
     "iopub.execute_input": "2024-07-20T17:17:11.459659Z",
     "iopub.status.busy": "2024-07-20T17:17:11.459245Z",
     "iopub.status.idle": "2024-07-20T17:17:11.464897Z",
     "shell.execute_reply": "2024-07-20T17:17:11.463722Z"
    },
    "papermill": {
     "duration": 0.024564,
     "end_time": "2024-07-20T17:17:11.467453",
     "exception": false,
     "start_time": "2024-07-20T17:17:11.442889",
     "status": "completed"
    },
    "tags": []
   },
   "outputs": [],
   "source": [
    "response = df[' Label']"
   ]
  },
  {
   "cell_type": "code",
   "execution_count": 20,
   "id": "f5d8e5d3",
   "metadata": {
    "execution": {
     "iopub.execute_input": "2024-07-20T17:17:11.498217Z",
     "iopub.status.busy": "2024-07-20T17:17:11.497804Z",
     "iopub.status.idle": "2024-07-20T17:17:11.657638Z",
     "shell.execute_reply": "2024-07-20T17:17:11.656400Z"
    },
    "papermill": {
     "duration": 0.178742,
     "end_time": "2024-07-20T17:17:11.660419",
     "exception": false,
     "start_time": "2024-07-20T17:17:11.481677",
     "status": "completed"
    },
    "tags": []
   },
   "outputs": [],
   "source": [
    "X_train, X_test, y_train, y_test = train_test_split(predictors, response, test_size=0.2, random_state=42)"
   ]
  },
  {
   "cell_type": "markdown",
   "id": "a232e475",
   "metadata": {
    "papermill": {
     "duration": 0.014298,
     "end_time": "2024-07-20T17:17:11.688918",
     "exception": false,
     "start_time": "2024-07-20T17:17:11.674620",
     "status": "completed"
    },
    "tags": []
   },
   "source": [
    "### **Ensemble Learning with Random Forest Classifier and Bagging**\n",
    "\n",
    "****Now, let's implement ensemble learning using a Random Forest Classifier (RFC) and a Bagging Classifier. We'll create an RFC with 100 estimators and a maximum depth of 5, and then use it as the base estimator for the Bagging Classifier. The Bagging Classifier will consist of 100 base estimators, each trained on a random subset of the data (80% of samples and features).****"
   ]
  },
  {
   "cell_type": "markdown",
   "id": "318be0cb",
   "metadata": {
    "papermill": {
     "duration": 0.013972,
     "end_time": "2024-07-20T17:17:11.717724",
     "exception": false,
     "start_time": "2024-07-20T17:17:11.703752",
     "status": "completed"
    },
    "tags": []
   },
   "source": [
    "![Image Alt Text](bagging_display.png)"
   ]
  },
  {
   "cell_type": "code",
   "execution_count": 21,
   "id": "7523465b",
   "metadata": {
    "execution": {
     "iopub.execute_input": "2024-07-20T17:17:11.748800Z",
     "iopub.status.busy": "2024-07-20T17:17:11.748332Z",
     "iopub.status.idle": "2024-07-20T17:17:11.754216Z",
     "shell.execute_reply": "2024-07-20T17:17:11.752770Z"
    },
    "papermill": {
     "duration": 0.024418,
     "end_time": "2024-07-20T17:17:11.756785",
     "exception": false,
     "start_time": "2024-07-20T17:17:11.732367",
     "status": "completed"
    },
    "tags": []
   },
   "outputs": [],
   "source": [
    "rfc = RandomForestClassifier(n_estimators=100, max_depth=5)"
   ]
  },
  {
   "cell_type": "code",
   "execution_count": 22,
   "id": "b17474c1",
   "metadata": {
    "execution": {
     "iopub.execute_input": "2024-07-20T17:17:11.789011Z",
     "iopub.status.busy": "2024-07-20T17:17:11.787729Z",
     "iopub.status.idle": "2024-07-20T17:17:11.794128Z",
     "shell.execute_reply": "2024-07-20T17:17:11.792937Z"
    },
    "papermill": {
     "duration": 0.025168,
     "end_time": "2024-07-20T17:17:11.796932",
     "exception": false,
     "start_time": "2024-07-20T17:17:11.771764",
     "status": "completed"
    },
    "tags": []
   },
   "outputs": [],
   "source": [
    "model = BaggingClassifier(estimator=rfc, n_estimators=100, max_samples=0.8, max_features=0.8)"
   ]
  },
  {
   "cell_type": "code",
   "execution_count": 23,
   "id": "4f793f60",
   "metadata": {
    "execution": {
     "iopub.execute_input": "2024-07-20T17:17:11.829056Z",
     "iopub.status.busy": "2024-07-20T17:17:11.828643Z",
     "iopub.status.idle": "2024-07-20T17:44:09.717644Z",
     "shell.execute_reply": "2024-07-20T17:44:09.716173Z"
    },
    "papermill": {
     "duration": 1617.923893,
     "end_time": "2024-07-20T17:44:09.735272",
     "exception": false,
     "start_time": "2024-07-20T17:17:11.811379",
     "status": "completed"
    },
    "tags": []
   },
   "outputs": [
    {
     "data": {
      "text/html": [
       "<style>#sk-container-id-1 {color: black;background-color: white;}#sk-container-id-1 pre{padding: 0;}#sk-container-id-1 div.sk-toggleable {background-color: white;}#sk-container-id-1 label.sk-toggleable__label {cursor: pointer;display: block;width: 100%;margin-bottom: 0;padding: 0.3em;box-sizing: border-box;text-align: center;}#sk-container-id-1 label.sk-toggleable__label-arrow:before {content: \"▸\";float: left;margin-right: 0.25em;color: #696969;}#sk-container-id-1 label.sk-toggleable__label-arrow:hover:before {color: black;}#sk-container-id-1 div.sk-estimator:hover label.sk-toggleable__label-arrow:before {color: black;}#sk-container-id-1 div.sk-toggleable__content {max-height: 0;max-width: 0;overflow: hidden;text-align: left;background-color: #f0f8ff;}#sk-container-id-1 div.sk-toggleable__content pre {margin: 0.2em;color: black;border-radius: 0.25em;background-color: #f0f8ff;}#sk-container-id-1 input.sk-toggleable__control:checked~div.sk-toggleable__content {max-height: 200px;max-width: 100%;overflow: auto;}#sk-container-id-1 input.sk-toggleable__control:checked~label.sk-toggleable__label-arrow:before {content: \"▾\";}#sk-container-id-1 div.sk-estimator input.sk-toggleable__control:checked~label.sk-toggleable__label {background-color: #d4ebff;}#sk-container-id-1 div.sk-label input.sk-toggleable__control:checked~label.sk-toggleable__label {background-color: #d4ebff;}#sk-container-id-1 input.sk-hidden--visually {border: 0;clip: rect(1px 1px 1px 1px);clip: rect(1px, 1px, 1px, 1px);height: 1px;margin: -1px;overflow: hidden;padding: 0;position: absolute;width: 1px;}#sk-container-id-1 div.sk-estimator {font-family: monospace;background-color: #f0f8ff;border: 1px dotted black;border-radius: 0.25em;box-sizing: border-box;margin-bottom: 0.5em;}#sk-container-id-1 div.sk-estimator:hover {background-color: #d4ebff;}#sk-container-id-1 div.sk-parallel-item::after {content: \"\";width: 100%;border-bottom: 1px solid gray;flex-grow: 1;}#sk-container-id-1 div.sk-label:hover label.sk-toggleable__label {background-color: #d4ebff;}#sk-container-id-1 div.sk-serial::before {content: \"\";position: absolute;border-left: 1px solid gray;box-sizing: border-box;top: 0;bottom: 0;left: 50%;z-index: 0;}#sk-container-id-1 div.sk-serial {display: flex;flex-direction: column;align-items: center;background-color: white;padding-right: 0.2em;padding-left: 0.2em;position: relative;}#sk-container-id-1 div.sk-item {position: relative;z-index: 1;}#sk-container-id-1 div.sk-parallel {display: flex;align-items: stretch;justify-content: center;background-color: white;position: relative;}#sk-container-id-1 div.sk-item::before, #sk-container-id-1 div.sk-parallel-item::before {content: \"\";position: absolute;border-left: 1px solid gray;box-sizing: border-box;top: 0;bottom: 0;left: 50%;z-index: -1;}#sk-container-id-1 div.sk-parallel-item {display: flex;flex-direction: column;z-index: 1;position: relative;background-color: white;}#sk-container-id-1 div.sk-parallel-item:first-child::after {align-self: flex-end;width: 50%;}#sk-container-id-1 div.sk-parallel-item:last-child::after {align-self: flex-start;width: 50%;}#sk-container-id-1 div.sk-parallel-item:only-child::after {width: 0;}#sk-container-id-1 div.sk-dashed-wrapped {border: 1px dashed gray;margin: 0 0.4em 0.5em 0.4em;box-sizing: border-box;padding-bottom: 0.4em;background-color: white;}#sk-container-id-1 div.sk-label label {font-family: monospace;font-weight: bold;display: inline-block;line-height: 1.2em;}#sk-container-id-1 div.sk-label-container {text-align: center;}#sk-container-id-1 div.sk-container {/* jupyter's `normalize.less` sets `[hidden] { display: none; }` but bootstrap.min.css set `[hidden] { display: none !important; }` so we also need the `!important` here to be able to override the default hidden behavior on the sphinx rendered scikit-learn.org. See: https://github.com/scikit-learn/scikit-learn/issues/21755 */display: inline-block !important;position: relative;}#sk-container-id-1 div.sk-text-repr-fallback {display: none;}</style><div id=\"sk-container-id-1\" class=\"sk-top-container\"><div class=\"sk-text-repr-fallback\"><pre>BaggingClassifier(estimator=RandomForestClassifier(max_depth=5),\n",
       "                  max_features=0.8, max_samples=0.8, n_estimators=100)</pre><b>In a Jupyter environment, please rerun this cell to show the HTML representation or trust the notebook. <br />On GitHub, the HTML representation is unable to render, please try loading this page with nbviewer.org.</b></div><div class=\"sk-container\" hidden><div class=\"sk-item sk-dashed-wrapped\"><div class=\"sk-label-container\"><div class=\"sk-label sk-toggleable\"><input class=\"sk-toggleable__control sk-hidden--visually\" id=\"sk-estimator-id-1\" type=\"checkbox\" ><label for=\"sk-estimator-id-1\" class=\"sk-toggleable__label sk-toggleable__label-arrow\">BaggingClassifier</label><div class=\"sk-toggleable__content\"><pre>BaggingClassifier(estimator=RandomForestClassifier(max_depth=5),\n",
       "                  max_features=0.8, max_samples=0.8, n_estimators=100)</pre></div></div></div><div class=\"sk-parallel\"><div class=\"sk-parallel-item\"><div class=\"sk-item\"><div class=\"sk-label-container\"><div class=\"sk-label sk-toggleable\"><input class=\"sk-toggleable__control sk-hidden--visually\" id=\"sk-estimator-id-2\" type=\"checkbox\" ><label for=\"sk-estimator-id-2\" class=\"sk-toggleable__label sk-toggleable__label-arrow\">estimator: RandomForestClassifier</label><div class=\"sk-toggleable__content\"><pre>RandomForestClassifier(max_depth=5)</pre></div></div></div><div class=\"sk-serial\"><div class=\"sk-item\"><div class=\"sk-estimator sk-toggleable\"><input class=\"sk-toggleable__control sk-hidden--visually\" id=\"sk-estimator-id-3\" type=\"checkbox\" ><label for=\"sk-estimator-id-3\" class=\"sk-toggleable__label sk-toggleable__label-arrow\">RandomForestClassifier</label><div class=\"sk-toggleable__content\"><pre>RandomForestClassifier(max_depth=5)</pre></div></div></div></div></div></div></div></div></div></div>"
      ],
      "text/plain": [
       "BaggingClassifier(estimator=RandomForestClassifier(max_depth=5),\n",
       "                  max_features=0.8, max_samples=0.8, n_estimators=100)"
      ]
     },
     "execution_count": 23,
     "metadata": {},
     "output_type": "execute_result"
    }
   ],
   "source": [
    "model.fit(X_train, y_train)"
   ]
  },
  {
   "cell_type": "markdown",
   "id": "7e87b7d3",
   "metadata": {
    "papermill": {
     "duration": 0.014474,
     "end_time": "2024-07-20T17:44:09.764534",
     "exception": false,
     "start_time": "2024-07-20T17:44:09.750060",
     "status": "completed"
    },
    "tags": []
   },
   "source": [
    "### **Evaluating Model Performance**"
   ]
  },
  {
   "cell_type": "code",
   "execution_count": 24,
   "id": "6b9f6301",
   "metadata": {
    "execution": {
     "iopub.execute_input": "2024-07-20T17:44:09.796190Z",
     "iopub.status.busy": "2024-07-20T17:44:09.795725Z",
     "iopub.status.idle": "2024-07-20T17:44:40.554984Z",
     "shell.execute_reply": "2024-07-20T17:44:40.553319Z"
    },
    "papermill": {
     "duration": 30.79239,
     "end_time": "2024-07-20T17:44:40.571747",
     "exception": false,
     "start_time": "2024-07-20T17:44:09.779357",
     "status": "completed"
    },
    "tags": []
   },
   "outputs": [
    {
     "name": "stdout",
     "output_type": "stream",
     "text": [
      "Accuracy: 99.91582305119287\n",
      "Recall: 99.85227802830042\n",
      "Precision: 100.0\n",
      "F1 Score: 99.92608441937367\n",
      "MCC: 99.82848494848997\n"
     ]
    }
   ],
   "source": [
    "y_pred =model.predict(X_test)\n",
    "accuracy = accuracy_score(y_test, y_pred)\n",
    "recall = recall_score(y_test, y_pred)\n",
    "precision = precision_score(y_test, y_pred)\n",
    "f1 = f1_score(y_test, y_pred)\n",
    "mcc = matthews_corrcoef(y_test, y_pred)\n",
    "print(\"Accuracy:\", accuracy*100)\n",
    "print('Recall:', recall*100)\n",
    "print('Precision:', precision*100)\n",
    "print('F1 Score:', f1*100)\n",
    "print('MCC:', mcc*100)"
   ]
  },
  {
   "cell_type": "markdown",
   "id": "43cfdb2d",
   "metadata": {
    "papermill": {
     "duration": 0.014684,
     "end_time": "2024-07-20T17:44:40.601396",
     "exception": false,
     "start_time": "2024-07-20T17:44:40.586712",
     "status": "completed"
    },
    "tags": []
   },
   "source": [
    "### **Heatmap for the confusion matrix displayed**"
   ]
  },
  {
   "cell_type": "code",
   "execution_count": 25,
   "id": "b9d8b2c6",
   "metadata": {
    "execution": {
     "iopub.execute_input": "2024-07-20T17:44:40.633252Z",
     "iopub.status.busy": "2024-07-20T17:44:40.632771Z",
     "iopub.status.idle": "2024-07-20T17:44:40.944339Z",
     "shell.execute_reply": "2024-07-20T17:44:40.942993Z"
    },
    "papermill": {
     "duration": 0.331078,
     "end_time": "2024-07-20T17:44:40.947446",
     "exception": false,
     "start_time": "2024-07-20T17:44:40.616368",
     "status": "completed"
    },
    "tags": []
   },
   "outputs": [
    {
     "data": {
      "image/png": "[encoded data removed]",
      "text/plain": [
       "<Figure size 800x600 with 2 Axes>"
      ]
     },
     "metadata": {},
     "output_type": "display_data"
    }
   ],
   "source": [
    "cm = confusion_matrix(y_test, y_pred)\n",
    "plt.figure(figsize=(8,6))\n",
    "sns.heatmap(cm, annot=True, cmap='Blues', fmt='g', \n",
    "            xticklabels=['BENIGN', 'DDos'], yticklabels=['BENIGN', 'DDos'])\n",
    "plt.xlabel('Predicted labels')\n",
    "plt.ylabel('True labels')\n",
    "plt.show()"
   ]
  },
  {
   "cell_type": "markdown",
   "id": "b70f6f9a",
   "metadata": {
    "papermill": {
     "duration": 0.015269,
     "end_time": "2024-07-20T17:44:40.979794",
     "exception": false,
     "start_time": "2024-07-20T17:44:40.964525",
     "status": "completed"
    },
    "tags": []
   },
   "source": [
    "### **Visualization of Model Performance**"
   ]
  },
  {
   "cell_type": "code",
   "execution_count": 26,
   "id": "8276a642",
   "metadata": {
    "execution": {
     "iopub.execute_input": "2024-07-20T17:44:41.015027Z",
     "iopub.status.busy": "2024-07-20T17:44:41.014557Z",
     "iopub.status.idle": "2024-07-20T17:44:41.354322Z",
     "shell.execute_reply": "2024-07-20T17:44:41.353304Z"
    },
    "papermill": {
     "duration": 0.359687,
     "end_time": "2024-07-20T17:44:41.356913",
     "exception": false,
     "start_time": "2024-07-20T17:44:40.997226",
     "status": "completed"
    },
    "tags": []
   },
   "outputs": [
    {
     "data": {
      "image/png": "[encoded data removed]",
      "text/plain": [
       "<Figure size 800x300 with 1 Axes>"
      ]
     },
     "metadata": {},
     "output_type": "display_data"
    }
   ],
   "source": [
    "labels = ['Accuracy', 'Recall', 'Precision', 'F1 score', 'MCC']\n",
    "scores = [accuracy,recall, precision,f1,mcc]\n",
    "sns.set(style='whitegrid')\n",
    "sns.set_color_codes('pastel')\n",
    "palette = sns.color_palette('Set1', n_colors=len(set(labels)))\n",
    "\n",
    "fig, ax = plt.subplots(figsize=(8, 3))\n",
    "sns.barplot(x=scores, y=labels, palette=palette)\n",
    "\n",
    "for i, v in enumerate(scores):\n",
    "    ax.text(v+0.01, i, f'{v*100:.2f}%', color='black', fontweight='bold')\n",
    "\n",
    "ax.set_xlim(0, 1)\n",
    "ax.set_xlabel('Score')\n",
    "ax.set_ylabel('Metric')\n",
    "ax.set_title('Bagging with Random Forest Classifier as Base')\n",
    "\n",
    "plt.show()"
   ]
  },
  {
   "cell_type": "markdown",
   "id": "6a64809e",
   "metadata": {
    "papermill": {
     "duration": 0.015972,
     "end_time": "2024-07-20T17:44:41.389186",
     "exception": false,
     "start_time": "2024-07-20T17:44:41.373214",
     "status": "completed"
    },
    "tags": []
   },
   "source": [
    "## **Saving The Model**"
   ]
  },
  {
   "cell_type": "code",
   "execution_count": 27,
   "id": "5fa25b6f",
   "metadata": {
    "execution": {
     "iopub.execute_input": "2024-07-20T17:44:41.425121Z",
     "iopub.status.busy": "2024-07-20T17:44:41.424336Z",
     "iopub.status.idle": "2024-07-20T17:44:49.739199Z",
     "shell.execute_reply": "2024-07-20T17:44:49.737994Z"
    },
    "papermill": {
     "duration": 8.336418,
     "end_time": "2024-07-20T17:44:49.742085",
     "exception": false,
     "start_time": "2024-07-20T17:44:41.405667",
     "status": "completed"
    },
    "tags": []
   },
   "outputs": [
    {
     "data": {
      "text/plain": [
       "['model.joblib']"
      ]
     },
     "execution_count": 27,
     "metadata": {},
     "output_type": "execute_result"
    }
   ],
   "source": [
    "with open('model.pkl', 'wb') as f:\n",
    "    pickle.dump(model, f)\n",
    "\n",
    "joblib.dump(model, 'model.joblib')"
   ]
  }
 ],
 "metadata": {
  "kaggle": {
   "accelerator": "none",
   "dataSources": [
    {
     "datasetId": 3674161,
     "sourceId": 6376134,
     "sourceType": "datasetVersion"
    }
   ],
   "dockerImageVersionId": 30635,
   "isGpuEnabled": false,
   "isInternetEnabled": false,
   "language": "python",
   "sourceType": "notebook"
  },
  "kernelspec": {
   "display_name": "Python 3",
   "language": "python",
   "name": "python3"
  },
  "language_info": {
   "codemirror_mode": {
    "name": "ipython",
    "version": 3
   },
   "file_extension": ".py",
   "mimetype": "text/x-python",
   "name": "python",
   "nbconvert_exporter": "python",
   "pygments_lexer": "ipython3",
   "version": "3.10.12"
  },
  "papermill": {
   "default_parameters": {},
   "duration": 1672.623975,
   "end_time": "2024-07-20T17:44:50.486580",
   "environment_variables": {},
   "exception": null,
   "input_path": "__notebook__.ipynb",
   "output_path": "__notebook__.ipynb",
   "parameters": {},
   "start_time": "2024-07-20T17:16:57.862605",
   "version": "2.4.0"
  }
 },
 "nbformat": 4,
 "nbformat_minor": 5
}
